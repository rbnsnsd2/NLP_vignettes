{
 "cells": [
  {
   "cell_type": "markdown",
   "metadata": {},
   "source": [
    "### Unoptimized model for topic, subtopic, and sentiment\n"
   ]
  },
  {
   "cell_type": "code",
   "execution_count": 1,
   "metadata": {},
   "outputs": [
    {
     "name": "stderr",
     "output_type": "stream",
     "text": [
      "Matplotlib created a temporary config/cache directory at /tmp/matplotlib-8jwa1eic because the default path (/.config/matplotlib) is not a writable directory; it is highly recommended to set the MPLCONFIGDIR environment variable to a writable directory, in particular to speed up the import of Matplotlib and to better support multiprocessing.\n"
     ]
    }
   ],
   "source": [
    "# import useful stuff\n",
    "import pickle\n",
    "import numpy as np\n",
    "import pandas as pd\n",
    "import matplotlib.pyplot as plt\n",
    "# from gensim import corpora, models, similarities\n",
    "from utils.cheaters import dctConstr\n",
    "from utils.testing import train_test_split\n",
    "# download lots of models and tools\n",
    "from sklearn.linear_model import LogisticRegression\n",
    "from sklearn.metrics import confusion_matrix, f1_score, plot_roc_curve\n",
    "from sklearn.model_selection import cross_validate\n",
    "from sklearn.model_selection import GridSearchCV\n",
    "from sklearn.metrics import classification_report"
   ]
  },
  {
   "cell_type": "code",
   "execution_count": 2,
   "metadata": {},
   "outputs": [
    {
     "name": "stdout",
     "output_type": "stream",
     "text": [
      "before trim number of terms: 9816\n",
      "after trim: 1085\n",
      "started building the idf\n"
     ]
    }
   ],
   "source": [
    "df = pd.read_csv(\"ASRS_2022.csv\", dtype={\"label\": \"string\", \"narrative\": \"string\"})\n",
    "df.dropna(inplace=True)\n",
    "    \n",
    "dct = dctConstr(\n",
    "    stop_words=[\"i\", \"you\", \"a\", \"but\", \"in\", \"of\", \"this\", \"no\", \"was\", \"to\", \"for\", \"it\", \"at\", \"the\", \"and\", \"we\"], \n",
    "    ignore_case=True)\n",
    "for chat in df.narrative.tolist():\n",
    "    dct.constructor(chat)\n",
    "    \n",
    "dct.trimmer(min=25) # a term must occur 10 times or it gets cut\n",
    "dct.build_tfidf(df.narrative.tolist())\n",
    "\n",
    "#  save for the next exercise\n",
    "with open(\"chat_parser.pkl\", 'wb') as f:\n",
    "    pickle.dump(dct, f, protocol=pickle.HIGHEST_PROTOCOL)"
   ]
  },
  {
   "cell_type": "code",
   "execution_count": 3,
   "metadata": {},
   "outputs": [
    {
     "name": "stdout",
     "output_type": "stream",
     "text": [
      "The corpus consists of 1085 terms and 998 documents\n"
     ]
    }
   ],
   "source": [
    "corp = df.narrative.tolist()\n",
    "bow = [dct(chat) for chat in corp]\n",
    "vec = [dct.bow_to_vec(p) for p in bow]\n",
    "X = np.array(vec)\n",
    "\n",
    "idx_to_terms = {i:j for j, i in dct.terms.items()} # flip dictionary for reversal\n",
    "print(f\"The corpus consists of {len(vec[0])} terms and {len(corp)} documents\")"
   ]
  },
  {
   "cell_type": "code",
   "execution_count": 4,
   "metadata": {},
   "outputs": [
    {
     "name": "stdout",
     "output_type": "stream",
     "text": [
      "Index(['ATC Equipment / Nav Facility / Buildings', 'Aircraft', 'Airport',\n",
      "       'Airspace Structure', 'Ambiguous', 'Chart Or Publication',\n",
      "       'Company Policy', 'Environment - Non Weather Related',\n",
      "       'Equipment / Tooling', 'Human Factors',\n",
      "       'Incorrect / Not Installed / Unavailable Part', 'MEL', 'Manuals',\n",
      "       'Procedure', 'Software and Automation', 'Weather'],\n",
      "      dtype='object')\n"
     ]
    }
   ],
   "source": [
    "df[\"label\"] = df[\"label\"].astype(\"category\")\n",
    "print(df.label.cat.categories)\n",
    "\n",
    "labels = {\n",
    "    'ATC Equipment / Nav Facility / Buildings': 0,\n",
    "    'Aircraft': 1,\n",
    "    'Airport': 2,\n",
    "    'Airspace Structure': 3,\n",
    "    'Ambiguous': 4,\n",
    "    'Chart Or Publication': 5,\n",
    "    'Company Policy': 6,\n",
    "    'Environment - Non Weather Related': 7,\n",
    "    'Equipment / Tooling': 8,\n",
    "    'Human Factors': 9,\n",
    "    'Incorrect / Not Installed / Unavailable Part': 10,\n",
    "    'MEL': 11,\n",
    "    'Manuals': 12,\n",
    "    'Procedure': 13,\n",
    "    'Software and Automation':14,\n",
    "    'Weather': 15\n",
    "}\n",
    "idx_lab = {i: j for j, i in labels.items()}\n",
    "df[\"label_cat\"] = df[\"label\"].cat.rename_categories(labels)\n",
    "Y = df[\"label_cat\"].tolist()"
   ]
  },
  {
   "cell_type": "code",
   "execution_count": 5,
   "metadata": {},
   "outputs": [],
   "source": [
    "#  let's save the idx to topic dictionaries for our next exercise\n",
    "with open(\"/tmp/idx_lab.pkl\", 'wb') as f:\n",
    "    pickle.dump(idx_lab, f, protocol=pickle.HIGHEST_PROTOCOL)"
   ]
  },
  {
   "cell_type": "code",
   "execution_count": 6,
   "metadata": {},
   "outputs": [],
   "source": [
    "clf_t = LogisticRegression(max_iter=1000)  # note that I had to increase the iterations for convergence\n",
    "clf_t.fit(X, Y)\n",
    "pred_t = clf_t.predict(X)"
   ]
  },
  {
   "cell_type": "code",
   "execution_count": 7,
   "metadata": {
    "scrolled": false
   },
   "outputs": [
    {
     "name": "stdout",
     "output_type": "stream",
     "text": [
      "                                              precision    recall  f1-score   support\n",
      "\n",
      "    ATC Equipment / Nav Facility / Buildings       0.00      0.00      0.00        14\n",
      "                                    Aircraft       0.45      1.00      0.62       437\n",
      "                                     Airport       0.00      0.00      0.00        16\n",
      "                          Airspace Structure       0.00      0.00      0.00         6\n",
      "                                   Ambiguous       0.33      0.01      0.02       124\n",
      "                        Chart Or Publication       0.00      0.00      0.00         3\n",
      "                              Company Policy       0.00      0.00      0.00         6\n",
      "           Environment - Non Weather Related       1.00      0.01      0.03        68\n",
      "                         Equipment / Tooling       0.00      0.00      0.00         4\n",
      "                               Human Factors       0.81      0.08      0.15       213\n",
      "Incorrect / Not Installed / Unavailable Part       0.00      0.00      0.00         2\n",
      "                                         MEL       0.00      0.00      0.00         2\n",
      "                                     Manuals       0.00      0.00      0.00         1\n",
      "                                   Procedure       0.00      0.00      0.00        60\n",
      "                     Software and Automation       0.00      0.00      0.00         3\n",
      "                                     Weather       0.00      0.00      0.00        39\n",
      "\n",
      "                                    accuracy                           0.46       998\n",
      "                                   macro avg       0.16      0.07      0.05       998\n",
      "                                weighted avg       0.48      0.46      0.31       998\n",
      "\n"
     ]
    },
    {
     "name": "stderr",
     "output_type": "stream",
     "text": [
      "/.local/lib/python3.6/site-packages/sklearn/metrics/_classification.py:1248: UndefinedMetricWarning: Precision and F-score are ill-defined and being set to 0.0 in labels with no predicted samples. Use `zero_division` parameter to control this behavior.\n",
      "  _warn_prf(average, modifier, msg_start, len(result))\n",
      "/.local/lib/python3.6/site-packages/sklearn/metrics/_classification.py:1248: UndefinedMetricWarning: Precision and F-score are ill-defined and being set to 0.0 in labels with no predicted samples. Use `zero_division` parameter to control this behavior.\n",
      "  _warn_prf(average, modifier, msg_start, len(result))\n",
      "/.local/lib/python3.6/site-packages/sklearn/metrics/_classification.py:1248: UndefinedMetricWarning: Precision and F-score are ill-defined and being set to 0.0 in labels with no predicted samples. Use `zero_division` parameter to control this behavior.\n",
      "  _warn_prf(average, modifier, msg_start, len(result))\n"
     ]
    }
   ],
   "source": [
    "print(classification_report(Y, pred_t, target_names=list(labels.keys())))"
   ]
  },
  {
   "cell_type": "markdown",
   "metadata": {},
   "source": [
    "The model here scores badly. It may benefit from term reduction."
   ]
  },
  {
   "cell_type": "code",
   "execution_count": 8,
   "metadata": {},
   "outputs": [
    {
     "name": "stderr",
     "output_type": "stream",
     "text": [
      "/.local/lib/python3.6/site-packages/sklearn/model_selection/_split.py:668: UserWarning: The least populated class in y has only 1 members, which is less than n_splits=2.\n",
      "  % (min_groups, self.n_splits)), UserWarning)\n"
     ]
    }
   ],
   "source": [
    "# Be warned this can take a while...\n",
    "from sklearn.feature_selection import RFECV\n",
    "from sklearn.model_selection import StratifiedKFold\n",
    "selector = RFECV(clf_t, \n",
    "                 step=20, # features to remove at each step\n",
    "                 cv=StratifiedKFold(2), scoring=\"accuracy\")\n",
    "selector = selector.fit(X, Y)"
   ]
  },
  {
   "cell_type": "code",
   "execution_count": 9,
   "metadata": {},
   "outputs": [
    {
     "data": {
      "image/png": "[encoded data removed]",
      "text/plain": [
       "<Figure size 432x288 with 1 Axes>"
      ]
     },
     "metadata": {
      "needs_background": "light"
     },
     "output_type": "display_data"
    },
    {
     "name": "stdout",
     "output_type": "stream",
     "text": [
      "1085\n",
      "term: tell\n",
      "\t rank: 52\n",
      "term: every\n",
      "\t rank: 52\n",
      "term: case\n",
      "\t rank: 52\n",
      "term: )\n",
      "\t rank: 52\n",
      "term: believed\n",
      "\t rank: 52\n",
      "term: try\n",
      "\t rank: 52\n",
      "term: things\n",
      "\t rank: 52\n",
      "term: alt\n",
      "\t rank: 52\n",
      "term: want\n",
      "\t rank: 52\n",
      "[52 11 21 25 12 13  4 31 47 15]\n",
      "65\n"
     ]
    }
   ],
   "source": [
    "plt.figure()\n",
    "plt.xlabel(\"Number of features selected\")\n",
    "plt.ylabel(\"Cross validation score (nb of correct classifications)\")\n",
    "plt.plot(range(1, len(selector.grid_scores_) + 1), selector.grid_scores_)\n",
    "plt.show()\n",
    "\n",
    "print(len(idx_to_terms))\n",
    "rank = sorted([(i, j) for i, j in enumerate(selector.ranking_)], key=lambda x: x[1], reverse=True)\n",
    "for idx, r in rank[1:10]:\n",
    "    print(f\"term: {idx_to_terms[idx]}\\n\\t rank: {r}\")\n",
    "print(selector.ranking_[:10])\n",
    "print(selector.n_features_)"
   ]
  },
  {
   "cell_type": "markdown",
   "metadata": {},
   "source": [
    "### Save & restore the model"
   ]
  },
  {
   "cell_type": "code",
   "execution_count": 10,
   "metadata": {},
   "outputs": [],
   "source": [
    "# let's save our models an then load them\n",
    "with open(\"/tmp/label_model.pkl\", 'wb') as f:\n",
    "    pickle.dump(clf_t, f, protocol=pickle.HIGHEST_PROTOCOL)"
   ]
  },
  {
   "cell_type": "code",
   "execution_count": 11,
   "metadata": {},
   "outputs": [],
   "source": [
    "with open('/tmp/label_model.pkl', 'rb') as f:\n",
    "    clf_t = pickle.load(f)"
   ]
  },
  {
   "cell_type": "code",
   "execution_count": 12,
   "metadata": {},
   "outputs": [
    {
     "name": "stdout",
     "output_type": "stream",
     "text": [
      "[(25, 0.22906426722706824), (56, 0.02943195272867756), (57, 0.3520147888797482), (69, 0.35890080342515923), (178, 0.33314911430645294), (425, 0.18222042811816969), (472, 0.4366581681340707)]\n",
      "['t', 'on', 'airplane', 'fire', 'didn', 'atc', 'help']\n"
     ]
    }
   ],
   "source": [
    "phrase = \"the airplane was on fire and atc didn't help\"\n",
    "doc_vec = [dct.bow_to_vec(dct(phrase))]  # the scikit models expect a list/array\n",
    "print(dct(phrase)) # have a look to verify our test phrase contains something\n",
    "print([idx_to_terms[i] for i, j in dct(phrase)]) # second reality check..."
   ]
  },
  {
   "cell_type": "code",
   "execution_count": 13,
   "metadata": {},
   "outputs": [],
   "source": [
    "def predictor(string):\n",
    "    doc_vec = [dct.bow_to_vec(dct(string))]\n",
    "    lab = clf_t.predict(doc_vec)[0]\n",
    "    return f\"label:\\t\\t{idx_lab[lab]}\""
   ]
  },
  {
   "cell_type": "code",
   "execution_count": 14,
   "metadata": {},
   "outputs": [
    {
     "name": "stdout",
     "output_type": "stream",
     "text": [
      "label:\t\tAircraft\n"
     ]
    }
   ],
   "source": [
    "print(predictor(phrase))"
   ]
  },
  {
   "cell_type": "markdown",
   "metadata": {},
   "source": [
    "### Exercise 09\n",
    "- remove the useless terms from the model\n",
    "- rebuild the dictionary of terms\n",
    "- rebuild the label model\n",
    "- construct a filter to remove the useless terms for the model from the document vector\n",
    "- rebuild the model"
   ]
  }
 ],
 "metadata": {
  "kernelspec": {
   "display_name": "Python 3",
   "language": "python",
   "name": "python3"
  },
  "language_info": {
   "codemirror_mode": {
    "name": "ipython",
    "version": 3
   },
   "file_extension": ".py",
   "mimetype": "text/x-python",
   "name": "python",
   "nbconvert_exporter": "python",
   "pygments_lexer": "ipython3",
   "version": "3.6.9"
  }
 },
 "nbformat": 4,
 "nbformat_minor": 4
}
