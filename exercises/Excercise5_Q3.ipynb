{
 "cells": [
  {
   "cell_type": "code",
   "execution_count": 4,
   "metadata": {},
   "outputs": [],
   "source": [
    "# import relative packages\n",
    "import numpy as np\n",
    "from gensim import corpora, models, similarities\n",
    "from cheaters import dctConstr\n",
    "import logging\n",
    "logging.basicConfig(format='%(asctime)s : %(levelname)s : %(message)s', level=logging.INFO)"
   ]
  },
  {
   "cell_type": "code",
   "execution_count": 5,
   "metadata": {
    "pycharm": {
     "name": "#%%\n"
    }
   },
   "outputs": [
    {
     "name": "stdout",
     "output_type": "stream",
     "text": [
      "The corpus consists of 4204 terms and 676 documents\n"
     ]
    }
   ],
   "source": [
    "# loading carmilla.txt\n",
    "with open('carmilla.txt', 'r') as f:\n",
    "    corp = f.read()\n",
    "\n",
    "dct = dctConstr(stop_words=[\"i\", \"you\", \"a\"], ignore_case=True)\n",
    "dct.constructor(corp)\n",
    "\n",
    "def split_by_paragraphs(data:str) -> []:\n",
    "    processed=data.lower()\n",
    "    while '\\n\\n\\n' in processed:\n",
    "        processed=processed.replace('\\n\\n\\n','\\n\\n')\n",
    "    out = processed.split('\\n\\n')\n",
    "    return [o.replace(\"\\n\", \" \") for o in out]\n",
    "\n",
    "pcorp = split_by_paragraphs(corp)\n",
    "pbow = [dct(para) for para in pcorp]\n",
    "ptfidf = [dct.tfidf(para) for para in pcorp]\n",
    "pvec = [dct.bow_to_vec(p) for p in pbow]\n",
    "idx_to_terms = {i:j for j, i in dct.terms.items()} # flip dictionary for reversal\n",
    "print(f\"The corpus consists of {len(pvec[0])} terms and {len(pcorp)} documents\")"
   ]
  },
  {
   "cell_type": "code",
   "execution_count": 6,
   "metadata": {
    "pycharm": {
     "name": "#%%\n"
    }
   },
   "outputs": [
    {
     "name": "stderr",
     "output_type": "stream",
     "text": [
      "2023-01-13 13:26:43,048 : INFO : adding document #0 to Dictionary(0 unique tokens: [])\n",
      "2023-01-13 13:26:43,069 : INFO : built Dictionary(6062 unique tokens: ['carmilla', 'j.', 'lefanu', 'sheridan', '1872']...) from 676 documents (total 22887 corpus positions)\n",
      "2023-01-13 13:26:43,070 : INFO : Dictionary lifecycle event {'msg': \"built Dictionary(6062 unique tokens: ['carmilla', 'j.', 'lefanu', 'sheridan', '1872']...) from 676 documents (total 22887 corpus positions)\", 'datetime': '2023-01-13T13:26:43.070541', 'gensim': '4.1.2', 'python': '3.9.13 (main, Aug 25 2022, 18:29:29) \\n[Clang 12.0.0 ]', 'platform': 'macOS-10.16-x86_64-i386-64bit', 'event': 'created'}\n"
     ]
    },
    {
     "name": "stdout",
     "output_type": "stream",
     "text": [
      "['carmilla', 'j.', 'lefanu', 'sheridan', '1872', 'prologue', '_upon', 'accompanies', 'attached', 'doctor']\n",
      "['⊹', '⊰', '⊱', '∃', '∀', '⊤', '⊥', '∊', '⋃', '⋼']\n"
     ]
    }
   ],
   "source": [
    "# data prepraring\n",
    "stoplist = set('for a of the and to in'.split())\n",
    "texts = [\n",
    "    [word for word in document.lower().split() if word not in stoplist]\n",
    "    for document in pcorp\n",
    "]\n",
    "dictionary = corpora.Dictionary(texts)\n",
    "corpus = [dictionary.doc2bow(text) for text in texts]\n",
    "\n",
    "len(dictionary)\n",
    "print(list(dictionary.values())[:10])\n",
    "print(list(dct.terms.keys())[:10])"
   ]
  },
  {
   "cell_type": "code",
   "execution_count": 7,
   "metadata": {
    "pycharm": {
     "name": "#%%\n"
    }
   },
   "outputs": [
    {
     "name": "stderr",
     "output_type": "stream",
     "text": [
      "2023-01-13 13:26:44,035 : INFO : using symmetric alpha at 0.09090909090909091\n",
      "2023-01-13 13:26:44,043 : INFO : using symmetric eta at 0.09090909090909091\n",
      "2023-01-13 13:26:44,045 : INFO : using serial LDA version on this node\n",
      "2023-01-13 13:26:44,053 : INFO : running online (single-pass) LDA training, 11 topics, 1 passes over the supplied corpus of 676 documents, updating model once every 676 documents, evaluating perplexity every 676 documents, iterating 50x with a convergence threshold of 0.001000\n",
      "2023-01-13 13:26:44,054 : WARNING : too few updates, training might not converge; consider increasing the number of passes or iterations to improve accuracy\n",
      "2023-01-13 13:26:44,382 : INFO : -11.099 per-word bound, 2194.2 perplexity estimate based on a held-out corpus of 676 documents with 26584 words\n",
      "2023-01-13 13:26:44,382 : INFO : PROGRESS: pass 0, at document #676/676\n",
      "2023-01-13 13:26:44,632 : INFO : topic #4 (0.091): 0.029*\"and\" + 0.023*\"in\" + 0.023*\"to\" + 0.022*\"the\" + 0.019*\"\"\" + 0.019*\"my\" + 0.017*\"it\" + 0.017*\"her\" + 0.016*\"she\" + 0.015*\"was\"\n",
      "2023-01-13 13:26:44,633 : INFO : topic #8 (0.091): 0.071*\"the\" + 0.032*\"of\" + 0.027*\"and\" + 0.019*\"to\" + 0.013*\"in\" + 0.011*\"my\" + 0.011*\"that\" + 0.010*\"her\" + 0.010*\"\"\" + 0.009*\"with\"\n",
      "2023-01-13 13:26:44,634 : INFO : topic #6 (0.091): 0.044*\"the\" + 0.041*\"and\" + 0.035*\"of\" + 0.025*\"was\" + 0.019*\"to\" + 0.018*\"her\" + 0.018*\"in\" + 0.015*\"my\" + 0.014*\"had\" + 0.014*\"with\"\n",
      "2023-01-13 13:26:44,634 : INFO : topic #9 (0.091): 0.020*\"\"\" + 0.014*\"it\" + 0.013*\"of\" + 0.013*\"is\" + 0.011*\"my\" + 0.010*\"she\" + 0.010*\"but\" + 0.010*\"an\" + 0.009*\"the\" + 0.009*\"that\"\n",
      "2023-01-13 13:26:44,635 : INFO : topic #7 (0.091): 0.052*\"the\" + 0.026*\"and\" + 0.020*\"to\" + 0.019*\"of\" + 0.018*\"she\" + 0.015*\"that\" + 0.015*\"in\" + 0.015*\"was\" + 0.010*\"\"\" + 0.009*\"my\"\n",
      "2023-01-13 13:26:44,635 : INFO : topic diff=6.692665, rho=1.000000\n",
      "2023-01-13 13:26:44,635 : INFO : LdaModel lifecycle event {'msg': 'trained LdaModel(num_terms=4203, num_topics=11, decay=0.5, chunksize=2000) in 0.58s', 'datetime': '2023-01-13T13:26:44.635927', 'gensim': '4.1.2', 'python': '3.9.13 (main, Aug 25 2022, 18:29:29) \\n[Clang 12.0.0 ]', 'platform': 'macOS-10.16-x86_64-i386-64bit', 'event': 'created'}\n",
      "2023-01-13 13:26:44,837 : INFO : -7.318 per-word bound, 159.6 perplexity estimate based on a held-out corpus of 676 documents with 26584 words\n"
     ]
    },
    {
     "name": "stdout",
     "output_type": "stream",
     "text": [
      "The perplexity for the txt：\n",
      "-7.318121069523275\n"
     ]
    }
   ],
   "source": [
    "# calculate perplexity\n",
    "lda = models.ldamodel.LdaModel(corpus=pbow, id2word=idx_to_terms, num_topics=11)\n",
    "perplexity = lda.log_perplexity(pbow)\n",
    "print(\"The perplexity for the txt：\")\n",
    "print(perplexity)"
   ]
  },
  {
   "cell_type": "code",
   "execution_count": 8,
   "metadata": {
    "pycharm": {
     "name": "#%%\n"
    }
   },
   "outputs": [
    {
     "name": "stderr",
     "output_type": "stream",
     "text": [
      "2023-01-13 13:26:45,589 : INFO : using symmetric alpha at 0.09090909090909091\n",
      "2023-01-13 13:26:45,592 : INFO : using symmetric eta at 0.09090909090909091\n",
      "2023-01-13 13:26:45,594 : INFO : using serial LDA version on this node\n",
      "2023-01-13 13:26:45,603 : INFO : running online (single-pass) LDA training, 11 topics, 1 passes over the supplied corpus of 540 documents, updating model once every 540 documents, evaluating perplexity every 540 documents, iterating 50x with a convergence threshold of 0.001000\n",
      "2023-01-13 13:26:45,604 : WARNING : too few updates, training might not converge; consider increasing the number of passes or iterations to improve accuracy\n",
      "2023-01-13 13:26:45,867 : INFO : -11.768 per-word bound, 3488.3 perplexity estimate based on a held-out corpus of 540 documents with 20241 words\n",
      "2023-01-13 13:26:45,867 : INFO : PROGRESS: pass 0, at document #540/540\n",
      "2023-01-13 13:26:46,069 : INFO : topic #2 (0.091): 0.018*\"in\" + 0.017*\"to\" + 0.016*\"\"\" + 0.012*\"said\" + 0.011*\"that\" + 0.011*\"and\" + 0.009*\"of\" + 0.008*\"the\" + 0.008*\"have\" + 0.007*\"her\"\n",
      "2023-01-13 13:26:46,069 : INFO : topic #1 (0.091): 0.034*\"and\" + 0.027*\"the\" + 0.025*\"to\" + 0.019*\"my\" + 0.019*\"in\" + 0.018*\"of\" + 0.016*\"she\" + 0.014*\"that\" + 0.012*\"was\" + 0.010*\"her\"\n",
      "2023-01-13 13:26:46,070 : INFO : topic #0 (0.091): 0.059*\"the\" + 0.032*\"and\" + 0.021*\"of\" + 0.020*\"in\" + 0.018*\"to\" + 0.016*\"was\" + 0.013*\"with\" + 0.011*\"that\" + 0.010*\"it\" + 0.010*\"her\"\n",
      "2023-01-13 13:26:46,070 : INFO : topic #4 (0.091): 0.054*\"the\" + 0.029*\"and\" + 0.024*\"it\" + 0.022*\"of\" + 0.017*\"\"\" + 0.016*\"to\" + 0.012*\"my\" + 0.010*\"is\" + 0.010*\"was\" + 0.010*\"in\"\n",
      "2023-01-13 13:26:46,071 : INFO : topic #9 (0.091): 0.042*\"and\" + 0.028*\"the\" + 0.026*\"her\" + 0.023*\"was\" + 0.022*\"to\" + 0.021*\"of\" + 0.021*\"my\" + 0.018*\"in\" + 0.013*\"with\" + 0.012*\"she\"\n",
      "2023-01-13 13:26:46,071 : INFO : topic diff=7.073863, rho=1.000000\n",
      "2023-01-13 13:26:46,071 : INFO : LdaModel lifecycle event {'msg': 'trained LdaModel(num_terms=4203, num_topics=11, decay=0.5, chunksize=2000) in 0.47s', 'datetime': '2023-01-13T13:26:46.071816', 'gensim': '4.1.2', 'python': '3.9.13 (main, Aug 25 2022, 18:29:29) \\n[Clang 12.0.0 ]', 'platform': 'macOS-10.16-x86_64-i386-64bit', 'event': 'created'}\n",
      "2023-01-13 13:26:46,138 : INFO : -11.093 per-word bound, 2184.7 perplexity estimate based on a held-out corpus of 136 documents with 6343 words\n"
     ]
    },
    {
     "name": "stdout",
     "output_type": "stream",
     "text": [
      "The perplexity for the text：\n",
      "-11.093206786386723\n"
     ]
    }
   ],
   "source": [
    "# 80% training and 20% test sets\n",
    "import random\n",
    "random.seed(11) #set random seed\n",
    "# shuffle corpus\n",
    "cp = list(corpus)\n",
    "random.shuffle(cp)\n",
    "\n",
    "# split into 80% training and 20% test sets\n",
    "p = int(len(cp) * .8)\n",
    "cp_train = pbow[0:p]\n",
    "cp_test = pbow[p:]\n",
    "lda = models.ldamodel.LdaModel(corpus=cp_train, id2word=idx_to_terms, num_topics=11)\n",
    "perplexity = lda.log_perplexity(cp_test)\n",
    "print(\"The perplexity for the text：\")\n",
    "print(perplexity)"
   ]
  },
  {
   "cell_type": "code",
   "execution_count": null,
   "metadata": {
    "pycharm": {
     "name": "#%%\n"
    }
   },
   "outputs": [],
   "source": []
  }
 ],
 "metadata": {
  "kernelspec": {
   "display_name": "Python 3 (ipykernel)",
   "language": "python",
   "name": "python3"
  },
  "language_info": {
   "codemirror_mode": {
    "name": "ipython",
    "version": 3
   },
   "file_extension": ".py",
   "mimetype": "text/x-python",
   "name": "python",
   "nbconvert_exporter": "python",
   "pygments_lexer": "ipython3",
   "version": "3.9.13"
  }
 },
 "nbformat": 4,
 "nbformat_minor": 1
}
