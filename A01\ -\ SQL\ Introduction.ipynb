{
 "cells": [
  {
   "cell_type": "markdown",
   "metadata": {},
   "source": [
    "# An introduction to SQL (lite)\n",
    "When ever you are working with large data set you will inevitably run into SQL or [SE-QUEL](https://en.wikipedia.org/wiki/SQL) (whichever pronunciation that your boss uses is the correct one:). There are several variants of the orignal SQL (now MS-SQL), I would recommend postgresql, but your mileage may vary.\n",
    "\n",
    "For the purposes of demonstration, we can use a tiny version of the SQL database available in python--```sqlite3```. Documentation of ```sqlite3``` is available [here](https://docs.python.org/3/library/sqlite3.html)."
   ]
  },
  {
   "cell_type": "code",
   "execution_count": 1,
   "metadata": {},
   "outputs": [],
   "source": [
    "import sqlite3\n",
    "from sqlite3 import Error"
   ]
  },
  {
   "cell_type": "markdown",
   "metadata": {},
   "source": [
    "First let's connect to our local file version of our database and capture a \"cursor\" to it. Make sure that you ```db.close()``` the connection when complete."
   ]
  },
  {
   "cell_type": "code",
   "execution_count": 2,
   "metadata": {},
   "outputs": [],
   "source": [
    "db = sqlite3.connect(\"file:pythonsqlite.db?mode=rw\", uri=True)\n",
    "cur = db.cursor()"
   ]
  },
  {
   "cell_type": "code",
   "execution_count": 3,
   "metadata": {},
   "outputs": [],
   "source": [
    "# For reference, this is how the table was created\n",
    "create = \"\"\"\n",
    "CREATE TABLE reddit_data (\n",
    "    tid integer NOT NULL,\n",
    "    subreddit character varying(64),\n",
    "    subreddit_id character varying(16),\n",
    "    selftext character varying,\n",
    "    is_self boolean,\n",
    "    body character varying,\n",
    "    link_author character varying(16),\n",
    "    author character varying(128),\n",
    "    author_fullname character varying(16),\n",
    "    title character varying(128),\n",
    "    name character varying(16),\n",
    "    upvote_ratio real,\n",
    "    ups integer,\n",
    "    downs integer,\n",
    "    link_flare_text character varying(64),\n",
    "    score integer,\n",
    "    created double precision,\n",
    "    created_utc double precision,\n",
    "    link_flair_template_id character varying(128),\n",
    "    author_flair_text character varying(128),\n",
    "    id character varying(16),\n",
    "    parent_id character varying(16),\n",
    "    num_crossposts integer,\n",
    "    media json,\n",
    "    is_video boolean,\n",
    "    kind character varying(8),\n",
    "    is_submitter boolean\n",
    ")\n",
    "\"\"\""
   ]
  },
  {
   "cell_type": "markdown",
   "metadata": {},
   "source": [
    "Let's see how many records there are in our db and see what a sample looks like.\n",
    "Here we see the basic format of a query beginning with *SELECT*. The commands are by convention in all uppercase/caps to delimit them from variables. When parsing, the caps are ignored unless quoted.\n",
    "\n",
    "- *count()* counts the number of instances\n",
    "- *\\** is the wildcard symbol and returns all variables\n",
    "- *FROM* is followed by the name of the table\n",
    "- *LIMIT* restricts the number of records to return"
   ]
  },
  {
   "cell_type": "code",
   "execution_count": 4,
   "metadata": {},
   "outputs": [
    {
     "name": "stdout",
     "output_type": "stream",
     "text": [
      "total records count: (2000,)\n",
      "[(53390073, 'pics', 't5_2qh0u', None, None, 'Not sure I wood be able to afford it', 'FullmetalDragon', 'HelloMyLove', 't2_6mdi1', None, 't1_c4il4wo', None, 5, 0, None, 5, 1335840577.0, 1335840577.0, None, None, 'c4il4wo', 't1_c4id1qe', None, None, None, 't1', 0)]\n"
     ]
    }
   ],
   "source": [
    "res = cur.execute(\"SELECT count(*) from reddit_data\")\n",
    "result = res.fetchone()\n",
    "print(\"total records count:\", result)\n",
    "\n",
    "res = cur.execute(\"SELECT * from reddit_data LIMIT 1\")\n",
    "result = res.fetchall()\n",
    "print(result)"
   ]
  },
  {
   "cell_type": "markdown",
   "metadata": {},
   "source": [
    "This time lets restrict our query to three variables and two records."
   ]
  },
  {
   "cell_type": "code",
   "execution_count": 5,
   "metadata": {},
   "outputs": [
    {
     "name": "stdout",
     "output_type": "stream",
     "text": [
      "[('pics', 'HelloMyLove', 'Not sure I wood be able to afford it'), ('AskReddit', 'Von_Hutchins', 'But what about the Cardinals bumper sticker?')]\n"
     ]
    }
   ],
   "source": [
    "print(cur.execute(\"SELECT subreddit, author, body FROM reddit_data LIMIT 2\").fetchall())"
   ]
  },
  {
   "cell_type": "markdown",
   "metadata": {},
   "source": [
    "I wonder how many *author*s have \"love\" in their name?\n",
    "Here we are introducing th *LIKE* command which allows for string search and *%* which matches any character in a string."
   ]
  },
  {
   "cell_type": "code",
   "execution_count": 6,
   "metadata": {},
   "outputs": [
    {
     "name": "stdout",
     "output_type": "stream",
     "text": [
      "[(11,)]\n"
     ]
    }
   ],
   "source": [
    "print(cur.execute(\"SELECT count(author) FROM reddit_data WHERE author LIKE '%love%'\").fetchall())"
   ]
  },
  {
   "cell_type": "code",
   "execution_count": 7,
   "metadata": {},
   "outputs": [],
   "source": [
    "db.close() # you should terminate your db in memory when finished"
   ]
  },
  {
   "cell_type": "code",
   "execution_count": null,
   "metadata": {},
   "outputs": [],
   "source": []
  }
 ],
 "metadata": {
  "kernelspec": {
   "display_name": "Python 3",
   "language": "python",
   "name": "python3"
  },
  "language_info": {
   "codemirror_mode": {
    "name": "ipython",
    "version": 3
   },
   "file_extension": ".py",
   "mimetype": "text/x-python",
   "name": "python",
   "nbconvert_exporter": "python",
   "pygments_lexer": "ipython3",
   "version": "3.6.9"
  }
 },
 "nbformat": 4,
 "nbformat_minor": 2
}
