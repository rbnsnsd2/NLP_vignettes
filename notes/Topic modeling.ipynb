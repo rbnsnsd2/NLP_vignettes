{
 "cells": [
  {
   "cell_type": "markdown",
   "id": "9999842c",
   "metadata": {},
   "source": [
    "Topic modelling\n",
    "\n",
    "\n",
    "1. key concepts\n",
    "\n",
    "Body: A collection of documents-the entire dataset.\n",
    "\n",
    "Documents：A collection of words-the instances or “rows” of the dataset.\n",
    "\n",
    "Dictionary: The set of all words that appear in at least one document in our body\n",
    "\n",
    "Topic: A collection of words that co-occur can reveal the central foucus of the text. \n",
    "\n",
    "-Eg. The entire text talks about \"Excercise\", while it involves\n",
    "2 main \"topics\": \"fitness equipment“, \"Healthy eating“. When we do LSA modelling, \"bicycle“ and \"running\" would co-occur, and \"apple\",\"protein\" would co-occur, which indicating different hidden topics in this entire text.\n"
   ]
  },
  {
   "cell_type": "markdown",
   "id": "7ed4f9c1",
   "metadata": {},
   "source": [
    "2. LSA(Latent Semantic Analysis)\n",
    "\n",
    "Raw text data\n",
    "\n",
    "step1: Document Term Matrix: text documents can be presents points in Euclidean Space(vectors)\n",
    "\n",
    "                   I         like    and     want     apples       pears     sugar\n",
    "-\"I like appples   1          1       1       0         1          0          1\n",
    "and sugar\"  \n",
    "\n",
    "-\"I and pears\"     1          0       1       0         0          1          0\n",
    "\n",
    "-\"I want sugar\"    1          0       0       1         0          0          1\n",
    "\n",
    "\n",
    "each row reprents one document(one sentence fragments)\n",
    "each column reprents a word from the dictionary that is a word that shows up and at least one of the documents\n",
    "\n",
    "\n",
    "\n",
    "step2: Singular Value Decomposition: reduce the dimensionality of the original data set by encoding it using\n",
    "these latent festures with LSA; Latent festures represent topics.\n",
    "\n",
    "Topic-Encoded Datas\n",
    "\n",
    "\n",
    "3. Random_state = 42 \n",
    "\n",
    "Random Seed:\n",
    "\n",
    "https://medium.com/mlearning-ai/what-the-heck-is-random-state-24a7a8389f3d\n",
    "\n",
    "\n",
    "\n",
    "\n"
   ]
  }
 ],
 "metadata": {
  "kernelspec": {
   "display_name": "Python 3 (ipykernel)",
   "language": "python",
   "name": "python3"
  },
  "language_info": {
   "codemirror_mode": {
    "name": "ipython",
    "version": 3
   },
   "file_extension": ".py",
   "mimetype": "text/x-python",
   "name": "python",
   "nbconvert_exporter": "python",
   "pygments_lexer": "ipython3",
   "version": "3.9.13"
  }
 },
 "nbformat": 4,
 "nbformat_minor": 5
}
